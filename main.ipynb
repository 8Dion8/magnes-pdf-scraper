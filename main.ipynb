{
 "cells": [
  {
   "cell_type": "code",
   "execution_count": null,
   "metadata": {},
   "outputs": [],
   "source": [
    "import os\n",
    "import time\n",
    "from selenium import webdriver\n",
    "from selenium.webdriver.common.by import By\n",
    "from selenium.webdriver.common.keys import Keys\n",
    "\n",
    "URL = \"https://www.magnespress.co.il/book/<id>/read\"  # Open the book in the online reader and copy url\n",
    "OUTPUT_DIR = \"pdf_outputs\" # Dir for scraped images \n",
    "PDF_NAME = \"merged.pdf\" # Filename for resulting pdf\n",
    "LOGIN = \"<email>\" # magnespress.co.il login (email)\n",
    "PASSD = \"<password>\" # magnespress.co.il password"
   ]
  },
  {
   "cell_type": "code",
   "execution_count": null,
   "metadata": {},
   "outputs": [],
   "source": [
    "# Initialize driver\n",
    "# Note that this needs geckodriver in the directory\n",
    "\n",
    "os.makedirs(OUTPUT_DIR, exist_ok=True)\n",
    "firefox_options = webdriver.FirefoxOptions()\n",
    "firefox_options.add_argument(\"--headless\")\n",
    "driver = webdriver.Firefox(options=firefox_options)"
   ]
  },
  {
   "cell_type": "code",
   "execution_count": null,
   "metadata": {},
   "outputs": [],
   "source": [
    "# Open book\n",
    "\n",
    "driver.get(URL)\n",
    "time.sleep(5)"
   ]
  },
  {
   "cell_type": "code",
   "execution_count": null,
   "metadata": {},
   "outputs": [],
   "source": [
    "# Login to account\n",
    "\n",
    "login_element = driver.find_element(By.XPATH, \"/html/body/div[7]/div/div[2]/div/div/div/div[1]/div[1]/input\")\n",
    "passd_element = driver.find_element(By.XPATH, \"/html/body/div[7]/div/div[2]/div/div/div/div[1]/div[2]/input\")\n",
    "\n",
    "login_element.send_keys(LOGIN)\n",
    "passd_element.send_keys(PASSD)\n",
    "\n",
    "login_button = driver.find_element(By.XPATH, \"/html/body/div[7]/div/div[2]/div/div/div/div[1]/div[4]/button[1]\")\n",
    "login_button.click()\n",
    "time.sleep(5)"
   ]
  },
  {
   "cell_type": "code",
   "execution_count": null,
   "metadata": {},
   "outputs": [],
   "source": [
    "# Find number of pages and scroll to the start\n",
    "\n",
    "viewer_element = driver.find_element(By.ID, \"viewerContainer\")\n",
    "viewer_element.click()\n",
    "time.sleep(1)\n",
    "\n",
    "pages_element = driver.find_element(By.XPATH, \"/html/body/div[3]/div[2]/div/span\")\n",
    "num_pages = int(pages_element.text.strip())\n",
    "\n",
    "pages_input = driver.find_element(By.XPATH, \"/html/body/div[3]/div[2]/input\")\n",
    "pages_input.send_keys(\"1\")\n",
    "pages_input.send_keys(Keys.ENTER)\n",
    "\n",
    "viewer_element.click()\n",
    "time.sleep(1)"
   ]
  },
  {
   "cell_type": "code",
   "execution_count": null,
   "metadata": {},
   "outputs": [],
   "source": [
    "# Scroll through pages and take screenshot\n",
    "\n",
    "for page in range(1, num_pages+1):\n",
    "    print(f\"Processing {page} out of {num_pages}\")\n",
    "    \n",
    "    page_element = driver.find_element(By.ID, f'pageContainer{page}')\n",
    "    \n",
    "    page_size = page_element.size\n",
    "    page_width = page_size['width']\n",
    "    page_height = page_size['height']\n",
    "    \n",
    "    driver.set_window_size(page_width*2, page_height*2)\n",
    "    driver.execute_script(\"arguments[0].scrollIntoView();\", page_element)\n",
    "    \n",
    "    page_element.screenshot(f\"pdf_outputs/page_{page}.png\")\n",
    "    \n",
    "    if page != num_pages:\n",
    "        next_element = driver.find_element(By.ID, \"pageLeft\")\n",
    "        next_element.click()\n",
    "        time.sleep(1)"
   ]
  },
  {
   "cell_type": "code",
   "execution_count": null,
   "metadata": {},
   "outputs": [],
   "source": [
    "driver.quit()"
   ]
  },
  {
   "cell_type": "code",
   "execution_count": null,
   "metadata": {},
   "outputs": [],
   "source": [
    "import img2pdf\n",
    "\n",
    "images = [os.path.join(OUTPUT_DIR, f) for f in os.listdir(OUTPUT_DIR) if f.endswith(('.png'))]\n",
    "\n",
    "with open(PDF_NAME, \"wb\") as f:\n",
    "    f.write(img2pdf.convert(images))\n",
    "    \n",
    "# Uncomment to remove scraped images at the end\n",
    "#os.rmdir(OUTPUT_DIR)"
   ]
  }
 ],
 "metadata": {
  "kernelspec": {
   "display_name": "usr",
   "language": "python",
   "name": "python3"
  },
  "language_info": {
   "codemirror_mode": {
    "name": "ipython",
    "version": 3
   },
   "file_extension": ".py",
   "mimetype": "text/x-python",
   "name": "python",
   "nbconvert_exporter": "python",
   "pygments_lexer": "ipython3",
   "version": "3.13.2"
  }
 },
 "nbformat": 4,
 "nbformat_minor": 2
}
