{
 "cells": [
  {
   "cell_type": "code",
   "execution_count": null,
   "metadata": {},
   "outputs": [],
   "source": [
    "import os\n",
    "import time\n",
    "from selenium import webdriver\n",
    "from selenium.webdriver.common.by import By\n",
    "from selenium.webdriver.common.action_chains import ActionChains\n",
    "from selenium.webdriver.common.keys import Keys\n",
    "\n",
    "URL = \"https://www.magnespress.co.il/book/7079/read\"  # Replace with the target URL\n",
    "OUTPUT_DIR = \"pdf_outputs\"\n",
    "MERGED_PDF = \"merged_document.pdf\"\n",
    "\n",
    "LOGIN = \"<email>\"\n",
    "PASSD = \"<password>\""
   ]
  },
  {
   "cell_type": "code",
   "execution_count": 2,
   "metadata": {},
   "outputs": [],
   "source": [
    "os.makedirs(OUTPUT_DIR, exist_ok=True)\n",
    "firefox_options = webdriver.FirefoxOptions()\n",
    "firefox_options.add_argument(\"--headless\")\n",
    "driver = webdriver.Firefox(options=firefox_options)\n",
    "actions = ActionChains(driver)"
   ]
  },
  {
   "cell_type": "code",
   "execution_count": 3,
   "metadata": {},
   "outputs": [],
   "source": [
    "driver.get(URL)\n",
    "time.sleep(5)"
   ]
  },
  {
   "cell_type": "code",
   "execution_count": 4,
   "metadata": {},
   "outputs": [],
   "source": [
    "login_element = driver.find_element(By.XPATH, \"/html/body/div[7]/div/div[2]/div/div/div/div[1]/div[1]/input\")\n",
    "passd_element = driver.find_element(By.XPATH, \"/html/body/div[7]/div/div[2]/div/div/div/div[1]/div[2]/input\")\n",
    "\n",
    "login_element.send_keys(LOGIN)\n",
    "passd_element.send_keys(PASSD)\n",
    "\n",
    "login_button = driver.find_element(By.XPATH, \"/html/body/div[7]/div/div[2]/div/div/div/div[1]/div[4]/button[1]\")\n",
    "login_button.click()\n",
    "time.sleep(5)"
   ]
  },
  {
   "cell_type": "code",
   "execution_count": 5,
   "metadata": {},
   "outputs": [],
   "source": [
    "viewer_element = driver.find_element(By.ID, \"viewerContainer\")\n",
    "viewer_element.click()\n",
    "time.sleep(1)\n",
    "\n",
    "pages_element = driver.find_element(By.XPATH, \"/html/body/div[3]/div[2]/div/span\")\n",
    "num_pages = int(pages_element.text.strip())\n",
    "\n",
    "pages_input = driver.find_element(By.XPATH, \"/html/body/div[3]/div[2]/input\")\n",
    "pages_input.send_keys(\"1\")\n",
    "pages_input.send_keys(Keys.ENTER)\n",
    "\n",
    "viewer_element.click()\n",
    "time.sleep(1)"
   ]
  },
  {
   "cell_type": "code",
   "execution_count": null,
   "metadata": {},
   "outputs": [],
   "source": [
    "for page in range(1, num_pages+1):\n",
    "    print(f\"Processing {page} out of {num_pages}\")\n",
    "    \n",
    "    page_element = driver.find_element(By.ID, f'pageContainer{page}')\n",
    "    \n",
    "    page_size = page_element.size\n",
    "    page_width = page_size['width']\n",
    "    page_height = page_size['height']\n",
    "    \n",
    "    driver.set_window_size(page_width*2, page_height*2)\n",
    "    driver.execute_script(\"arguments[0].scrollIntoView();\", page_element)\n",
    "    \n",
    "    page_element.screenshot(f\"pdf_outputs/page_{page}.png\")\n",
    "    \n",
    "    if page != num_pages:\n",
    "        next_element = driver.find_element(By.ID, \"pageLeft\")\n",
    "        next_element.click()\n",
    "        time.sleep(1)"
   ]
  },
  {
   "cell_type": "code",
   "execution_count": 7,
   "metadata": {},
   "outputs": [],
   "source": [
    "driver.quit()"
   ]
  }
 ],
 "metadata": {
  "kernelspec": {
   "display_name": "usr",
   "language": "python",
   "name": "python3"
  },
  "language_info": {
   "codemirror_mode": {
    "name": "ipython",
    "version": 3
   },
   "file_extension": ".py",
   "mimetype": "text/x-python",
   "name": "python",
   "nbconvert_exporter": "python",
   "pygments_lexer": "ipython3",
   "version": "3.13.0"
  }
 },
 "nbformat": 4,
 "nbformat_minor": 2
}
